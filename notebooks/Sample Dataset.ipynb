{
 "cells": [
  {
   "cell_type": "code",
   "execution_count": 1,
   "id": "c8ced82a-29e9-432a-a906-a0bce1a9cd7e",
   "metadata": {},
   "outputs": [],
   "source": [
    "# setting the random seed for reproducibility\n",
    "import random\n",
    "random.seed(493)\n",
    "\n",
    "import pandas as pd\n",
    "import numpy as np\n",
    "\n",
    "# for working with timestamps\n",
    "from datetime import datetime\n",
    "from dateutil.parser import parse\n",
    "\n",
    "# to print out all the outputs\n",
    "from IPython.core.interactiveshell import InteractiveShell\n",
    "InteractiveShell.ast_node_interactivity = \"all\"\n",
    "\n",
    "# set display options\n",
    "pd.set_option('display.max_columns', None)\n",
    "pd.set_option('display.max_rows', None)\n",
    "pd.set_option('display.max_colwidth', None)"
   ]
  },
  {
   "cell_type": "code",
   "execution_count": null,
   "id": "f4bf3f99-e663-4922-9313-933c7bcc16a6",
   "metadata": {
    "scrolled": true
   },
   "outputs": [],
   "source": [
    "# Function to add multiple rows with random \"Item Number\" and \"Quantity\"\n",
    "def add_random_rows(df, date):\n",
    "    num_rows = np.random.randint(1, 6)  # Random number of rows from 1 to 5\n",
    "    \n",
    "    # Generate a random hour between 4 AM (4) and 10 PM (22)\n",
    "    hour = np.random.randint(4, 23)\n",
    "    # # Generate a random minute between 0 and 59\n",
    "    # minute = np.random.randint(0, 60)\n",
    "    # Create the fixed datetime with the specified date and random time\n",
    "    fixed_datetime = date.replace(hour=hour)\n",
    "    \n",
    "    for _ in range(num_rows):\n",
    "        new_row = {\n",
    "            'Date': fixed_datetime,\n",
    "            'Item Number': np.random.randint(1001, 1018),\n",
    "            'Quantity': np.random.randint(1, 5),  # Quantity from 1 to 4\n",
    "            'Store Number': np.random.randint(1001, 1008)  # Random store number from 1001 to 1007\n",
    "        }\n",
    "        df = df._append(new_row, ignore_index=True)\n",
    "    return df\n",
    "\n",
    "# Create an initial empty DataFrame with the specified columns\n",
    "dfx = pd.DataFrame(columns=[\"Date\", \"Item Number\", \"Quantity\", \"Store Number\"])\n",
    "\n",
    "# Add new rows with random values for the initial date\n",
    "dfx = add_random_rows(dfx, pd.to_datetime('2024-07-01'))\n",
    "\n",
    "# Generating 19 random datetimes\n",
    "random_datetimes = [pd.to_datetime('2024-07-01') + pd.DateOffset(days=random.randint(0, 30)) for _ in range(19)]\n",
    "\n",
    "# Adding rows for each store number from 1001 to 1007\n",
    "for store_number in range(1001, 1008):\n",
    "    df = pd.DataFrame(columns=['Date', 'Item Number', 'Quantity'])  # Initialize df for each store number\n",
    "    for datetime in random_datetimes:\n",
    "        df = add_random_rows(df, datetime)\n",
    "    df['Store Number'] = store_number  # Set the store number for this iteration\n",
    "    dfx = pd.concat([dfx, df], ignore_index=True)  # Append df to dfx\n",
    "\n",
    "# Print the updated DataFrame\n",
    "print(\"Updated DataFrame with added rows:\")\n",
    "print(dfx)"
   ]
  },
  {
   "cell_type": "code",
   "execution_count": null,
   "id": "1288e949-fd5f-44ff-a784-fd382c28a64d",
   "metadata": {},
   "outputs": [],
   "source": [
    "#  dfx.to_csv(\"../data/in/raw.csv\", index=False)"
   ]
  },
  {
   "cell_type": "code",
   "execution_count": null,
   "id": "636d5d77-32c0-46f7-8e74-e2aa6494ee66",
   "metadata": {
    "scrolled": true
   },
   "outputs": [],
   "source": [
    "dfx"
   ]
  },
  {
   "cell_type": "code",
   "execution_count": null,
   "id": "92da6bdb-7da9-4544-9bbc-fd30277b2313",
   "metadata": {},
   "outputs": [],
   "source": [
    "# Creating an empty DataFrame with the specified columns\n",
    "df_labor = pd.DataFrame(columns=[\"Date\", \"Hour\", \"Number of Personnel\"])\n",
    "\n",
    "\n",
    "for store_num in range(1001, 1021):\n",
    "    \n",
    "    # Generating data for each hour of each day in July 2024\n",
    "    for july_day in range(1, 32):\n",
    "        july_date = pd.to_datetime('2024-07-' + str(july_day))\n",
    "        for hour in range(0, 24):\n",
    "            num_personnel = random.randint(2, 9)\n",
    "            df_labor = df_labor._append({\"Store Number\": store_num, \"Date\": july_date, \"Hour\": hour, \"Number of Personnel\": num_personnel}, ignore_index=True)\n",
    "\n",
    "# Converting 'Date' column to datetime format\n",
    "df_labor['Date'] = pd.to_datetime(df_labor['Date'])\n",
    "\n",
    "# Displaying the first few rows of the DataFrame\n",
    "df_labor.head()"
   ]
  },
  {
   "cell_type": "code",
   "execution_count": null,
   "id": "ceac237b-acc5-4f00-b6cc-94f04dcbde85",
   "metadata": {},
   "outputs": [],
   "source": [
    "print(july_dates)"
   ]
  },
  {
   "cell_type": "code",
   "execution_count": null,
   "id": "79cf5802-73b1-46af-b47b-5a9e80c18883",
   "metadata": {},
   "outputs": [],
   "source": [
    "df_labor.info()"
   ]
  },
  {
   "cell_type": "code",
   "execution_count": null,
   "id": "d4c33576-dd2c-45b7-bb57-a564ae802bc1",
   "metadata": {},
   "outputs": [],
   "source": [
    "df_labor.head()"
   ]
  },
  {
   "cell_type": "code",
   "execution_count": null,
   "id": "b321a2a0-8ba0-428b-8705-7c73679cdc78",
   "metadata": {},
   "outputs": [],
   "source": [
    "# df_labor.to_csv(\"../data/in/labor.csv\", index=False)"
   ]
  },
  {
   "cell_type": "code",
   "execution_count": null,
   "id": "63d6537e-fdb0-4e8b-94cb-8a4f80a68148",
   "metadata": {},
   "outputs": [],
   "source": [
    "# Creating an empty DataFrame with the specified columns\n",
    "df_labor = pd.DataFrame(columns=[\"Store Number\", \"Date\", \"Hour\", \"Number of Personnel\"])\n",
    "\n",
    "for store_num in range(1001, 1021):\n",
    "    # Generating data for each hour of each day in July 2024\n",
    "    for july_day in range(1, 32):\n",
    "        july_date = pd.to_datetime(f'2024-07-{july_day}')\n",
    "        for hour in range(0, 24):\n",
    "            num_personnel = random.randint(2, 9)\n",
    "            df_labor = df_labor._append({\"Store Number\": store_num, \"Date\": july_date, \"Hour\": hour, \"Number of Personnel\": num_personnel}, ignore_index=True)\n",
    "\n",
    "# Converting 'Date' and 'Hour' columns to a single 'Datetime' column\n",
    "df_labor['Datetime'] = pd.to_datetime(df_labor['Date']) + pd.to_timedelta(df_labor['Hour'], unit='h')"
   ]
  },
  {
   "cell_type": "code",
   "execution_count": null,
   "id": "5380822d-e4c6-4d03-95f7-87fe154a6082",
   "metadata": {},
   "outputs": [],
   "source": [
    "dfl = df_labor.drop(columns=[\"Date\", \"Hour\"])"
   ]
  },
  {
   "cell_type": "code",
   "execution_count": null,
   "id": "6205c1dc-d78c-4c18-bd44-629fc9e43298",
   "metadata": {},
   "outputs": [],
   "source": [
    "dfl.head()"
   ]
  },
  {
   "cell_type": "code",
   "execution_count": null,
   "id": "32f9aaa3-7192-467b-b7e5-10d73fc99dd7",
   "metadata": {},
   "outputs": [],
   "source": [
    "dfl.to_csv(\"../data/in/labor.csv\", index=False)"
   ]
  },
  {
   "cell_type": "code",
   "execution_count": 9,
   "id": "0fd80192-aa1c-42f9-9a63-aab0b966abdb",
   "metadata": {
    "scrolled": true
   },
   "outputs": [],
   "source": [
    "# Create empty lists to store the data\n",
    "date_list = []\n",
    "item_number_list = []\n",
    "quantity_list = []\n",
    "store_number_list = []\n",
    "\n",
    "# Define the date range (assuming a particular month and year)\n",
    "start_date = datetime(2024, 7, 1)\n",
    "end_date = datetime(2024, 7, 31)\n",
    "date_range = pd.date_range(start_date, end_date, freq='h')\n",
    "\n",
    "# Generate the data\n",
    "for store_number in range(1001, 1041):\n",
    "    for single_date in date_range:\n",
    "        for item_number in range(1001, 1018):\n",
    "            quantity = random.randint(0, 50)\n",
    "            date_list.append(single_date)\n",
    "            item_number_list.append(item_number)\n",
    "            quantity_list.append(quantity)\n",
    "            store_number_list.append(store_number)\n",
    "\n",
    "# Create the DataFrame\n",
    "data = {\n",
    "    'Date': date_list,\n",
    "    'Item Number': item_number_list,\n",
    "    'Quantity': quantity_list,\n",
    "    'Store Number': store_number_list\n",
    "}\n",
    "\n",
    "df = pd.DataFrame(data)\n"
   ]
  },
  {
   "cell_type": "code",
   "execution_count": 10,
   "id": "7fc2da51-a8ac-4d27-8690-2e74abb04820",
   "metadata": {},
   "outputs": [
    {
     "name": "stdout",
     "output_type": "stream",
     "text": [
      "<class 'pandas.core.frame.DataFrame'>\n",
      "RangeIndex: 490280 entries, 0 to 490279\n",
      "Data columns (total 4 columns):\n",
      " #   Column        Non-Null Count   Dtype         \n",
      "---  ------        --------------   -----         \n",
      " 0   Date          490280 non-null  datetime64[ns]\n",
      " 1   Item Number   490280 non-null  int64         \n",
      " 2   Quantity      490280 non-null  int64         \n",
      " 3   Store Number  490280 non-null  int64         \n",
      "dtypes: datetime64[ns](1), int64(3)\n",
      "memory usage: 15.0 MB\n"
     ]
    }
   ],
   "source": [
    "df.info()"
   ]
  },
  {
   "cell_type": "code",
   "execution_count": 11,
   "id": "464395a2-1053-4b4a-a959-cde61d812b81",
   "metadata": {},
   "outputs": [
    {
     "data": {
      "text/html": [
       "<div>\n",
       "<style scoped>\n",
       "    .dataframe tbody tr th:only-of-type {\n",
       "        vertical-align: middle;\n",
       "    }\n",
       "\n",
       "    .dataframe tbody tr th {\n",
       "        vertical-align: top;\n",
       "    }\n",
       "\n",
       "    .dataframe thead th {\n",
       "        text-align: right;\n",
       "    }\n",
       "</style>\n",
       "<table border=\"1\" class=\"dataframe\">\n",
       "  <thead>\n",
       "    <tr style=\"text-align: right;\">\n",
       "      <th></th>\n",
       "      <th>Date</th>\n",
       "      <th>Item Number</th>\n",
       "      <th>Quantity</th>\n",
       "      <th>Store Number</th>\n",
       "    </tr>\n",
       "  </thead>\n",
       "  <tbody>\n",
       "    <tr>\n",
       "      <th>0</th>\n",
       "      <td>2024-07-01</td>\n",
       "      <td>1001</td>\n",
       "      <td>16</td>\n",
       "      <td>1001</td>\n",
       "    </tr>\n",
       "    <tr>\n",
       "      <th>1</th>\n",
       "      <td>2024-07-01</td>\n",
       "      <td>1002</td>\n",
       "      <td>43</td>\n",
       "      <td>1001</td>\n",
       "    </tr>\n",
       "    <tr>\n",
       "      <th>2</th>\n",
       "      <td>2024-07-01</td>\n",
       "      <td>1003</td>\n",
       "      <td>19</td>\n",
       "      <td>1001</td>\n",
       "    </tr>\n",
       "    <tr>\n",
       "      <th>3</th>\n",
       "      <td>2024-07-01</td>\n",
       "      <td>1004</td>\n",
       "      <td>37</td>\n",
       "      <td>1001</td>\n",
       "    </tr>\n",
       "    <tr>\n",
       "      <th>4</th>\n",
       "      <td>2024-07-01</td>\n",
       "      <td>1005</td>\n",
       "      <td>16</td>\n",
       "      <td>1001</td>\n",
       "    </tr>\n",
       "  </tbody>\n",
       "</table>\n",
       "</div>"
      ],
      "text/plain": [
       "        Date  Item Number  Quantity  Store Number\n",
       "0 2024-07-01         1001        16          1001\n",
       "1 2024-07-01         1002        43          1001\n",
       "2 2024-07-01         1003        19          1001\n",
       "3 2024-07-01         1004        37          1001\n",
       "4 2024-07-01         1005        16          1001"
      ]
     },
     "execution_count": 11,
     "metadata": {},
     "output_type": "execute_result"
    }
   ],
   "source": [
    "df.head()"
   ]
  },
  {
   "cell_type": "code",
   "execution_count": 12,
   "id": "c836558d-9904-4417-bc08-056f71702576",
   "metadata": {},
   "outputs": [
    {
     "data": {
      "text/html": [
       "<div>\n",
       "<style scoped>\n",
       "    .dataframe tbody tr th:only-of-type {\n",
       "        vertical-align: middle;\n",
       "    }\n",
       "\n",
       "    .dataframe tbody tr th {\n",
       "        vertical-align: top;\n",
       "    }\n",
       "\n",
       "    .dataframe thead th {\n",
       "        text-align: right;\n",
       "    }\n",
       "</style>\n",
       "<table border=\"1\" class=\"dataframe\">\n",
       "  <thead>\n",
       "    <tr style=\"text-align: right;\">\n",
       "      <th></th>\n",
       "      <th>Date</th>\n",
       "      <th>Item Number</th>\n",
       "      <th>Quantity</th>\n",
       "      <th>Store Number</th>\n",
       "    </tr>\n",
       "  </thead>\n",
       "  <tbody>\n",
       "    <tr>\n",
       "      <th>490275</th>\n",
       "      <td>2024-07-31</td>\n",
       "      <td>1013</td>\n",
       "      <td>2</td>\n",
       "      <td>1040</td>\n",
       "    </tr>\n",
       "    <tr>\n",
       "      <th>490276</th>\n",
       "      <td>2024-07-31</td>\n",
       "      <td>1014</td>\n",
       "      <td>18</td>\n",
       "      <td>1040</td>\n",
       "    </tr>\n",
       "    <tr>\n",
       "      <th>490277</th>\n",
       "      <td>2024-07-31</td>\n",
       "      <td>1015</td>\n",
       "      <td>17</td>\n",
       "      <td>1040</td>\n",
       "    </tr>\n",
       "    <tr>\n",
       "      <th>490278</th>\n",
       "      <td>2024-07-31</td>\n",
       "      <td>1016</td>\n",
       "      <td>40</td>\n",
       "      <td>1040</td>\n",
       "    </tr>\n",
       "    <tr>\n",
       "      <th>490279</th>\n",
       "      <td>2024-07-31</td>\n",
       "      <td>1017</td>\n",
       "      <td>30</td>\n",
       "      <td>1040</td>\n",
       "    </tr>\n",
       "  </tbody>\n",
       "</table>\n",
       "</div>"
      ],
      "text/plain": [
       "             Date  Item Number  Quantity  Store Number\n",
       "490275 2024-07-31         1013         2          1040\n",
       "490276 2024-07-31         1014        18          1040\n",
       "490277 2024-07-31         1015        17          1040\n",
       "490278 2024-07-31         1016        40          1040\n",
       "490279 2024-07-31         1017        30          1040"
      ]
     },
     "execution_count": 12,
     "metadata": {},
     "output_type": "execute_result"
    }
   ],
   "source": [
    "df.tail()"
   ]
  },
  {
   "cell_type": "code",
   "execution_count": 13,
   "id": "96ddba1d-5144-4912-8179-00c628c5793e",
   "metadata": {},
   "outputs": [],
   "source": [
    "df.to_csv(\"../data/in/raw.csv\", index=False)"
   ]
  },
  {
   "cell_type": "code",
   "execution_count": 15,
   "id": "417e16c1-bdb8-4d16-ac1c-f64059570a15",
   "metadata": {},
   "outputs": [
    {
     "name": "stderr",
     "output_type": "stream",
     "text": [
      "C:\\Users\\Dd\\AppData\\Local\\Temp\\ipykernel_17120\\4233789454.py:10: FutureWarning: The behavior of DataFrame concatenation with empty or all-NA entries is deprecated. In a future version, this will no longer exclude empty or all-NA columns when determining the result dtypes. To retain the old behavior, exclude the relevant entries before the concat operation.\n",
      "  df_labor = df_labor._append({\"Store Number\": store_num, \"DateTime\": july_datetime, \"Number of Personnel\": num_personnel}, ignore_index=True)\n"
     ]
    }
   ],
   "source": [
    "# Create an empty DataFrame\n",
    "df_labor = pd.DataFrame(columns=[\"Store Number\", \"DateTime\", \"Number of Personnel\"])\n",
    "\n",
    "# Generate data for each store, each day in July 2024, and each hour of the day\n",
    "for store_num in range(1001, 1041):\n",
    "    for july_day in range(1, 32):\n",
    "        for hour in range(0, 24):\n",
    "            july_datetime = pd.to_datetime(f'2024-07-{july_day} {hour}:00:00')\n",
    "            num_personnel = random.randint(2, 9)\n",
    "            df_labor = df_labor._append({\"Store Number\": store_num, \"DateTime\": july_datetime, \"Number of Personnel\": num_personnel}, ignore_index=True)"
   ]
  },
  {
   "cell_type": "code",
   "execution_count": 16,
   "id": "5ea2a806-da92-4e12-843a-58a48ee11256",
   "metadata": {},
   "outputs": [
    {
     "name": "stdout",
     "output_type": "stream",
     "text": [
      "<class 'pandas.core.frame.DataFrame'>\n",
      "RangeIndex: 29760 entries, 0 to 29759\n",
      "Data columns (total 3 columns):\n",
      " #   Column               Non-Null Count  Dtype         \n",
      "---  ------               --------------  -----         \n",
      " 0   Store Number         29760 non-null  object        \n",
      " 1   DateTime             29760 non-null  datetime64[ns]\n",
      " 2   Number of Personnel  29760 non-null  object        \n",
      "dtypes: datetime64[ns](1), object(2)\n",
      "memory usage: 697.6+ KB\n"
     ]
    }
   ],
   "source": [
    "df_labor.info()"
   ]
  },
  {
   "cell_type": "code",
   "execution_count": 17,
   "id": "b4a0aa2b-8c85-485c-990e-4e05a41c5d76",
   "metadata": {},
   "outputs": [
    {
     "data": {
      "text/html": [
       "<div>\n",
       "<style scoped>\n",
       "    .dataframe tbody tr th:only-of-type {\n",
       "        vertical-align: middle;\n",
       "    }\n",
       "\n",
       "    .dataframe tbody tr th {\n",
       "        vertical-align: top;\n",
       "    }\n",
       "\n",
       "    .dataframe thead th {\n",
       "        text-align: right;\n",
       "    }\n",
       "</style>\n",
       "<table border=\"1\" class=\"dataframe\">\n",
       "  <thead>\n",
       "    <tr style=\"text-align: right;\">\n",
       "      <th></th>\n",
       "      <th>Store Number</th>\n",
       "      <th>DateTime</th>\n",
       "      <th>Number of Personnel</th>\n",
       "    </tr>\n",
       "  </thead>\n",
       "  <tbody>\n",
       "    <tr>\n",
       "      <th>0</th>\n",
       "      <td>1001</td>\n",
       "      <td>2024-07-01 00:00:00</td>\n",
       "      <td>6</td>\n",
       "    </tr>\n",
       "    <tr>\n",
       "      <th>1</th>\n",
       "      <td>1001</td>\n",
       "      <td>2024-07-01 01:00:00</td>\n",
       "      <td>9</td>\n",
       "    </tr>\n",
       "    <tr>\n",
       "      <th>2</th>\n",
       "      <td>1001</td>\n",
       "      <td>2024-07-01 02:00:00</td>\n",
       "      <td>7</td>\n",
       "    </tr>\n",
       "    <tr>\n",
       "      <th>3</th>\n",
       "      <td>1001</td>\n",
       "      <td>2024-07-01 03:00:00</td>\n",
       "      <td>7</td>\n",
       "    </tr>\n",
       "    <tr>\n",
       "      <th>4</th>\n",
       "      <td>1001</td>\n",
       "      <td>2024-07-01 04:00:00</td>\n",
       "      <td>7</td>\n",
       "    </tr>\n",
       "  </tbody>\n",
       "</table>\n",
       "</div>"
      ],
      "text/plain": [
       "  Store Number            DateTime Number of Personnel\n",
       "0         1001 2024-07-01 00:00:00                   6\n",
       "1         1001 2024-07-01 01:00:00                   9\n",
       "2         1001 2024-07-01 02:00:00                   7\n",
       "3         1001 2024-07-01 03:00:00                   7\n",
       "4         1001 2024-07-01 04:00:00                   7"
      ]
     },
     "execution_count": 17,
     "metadata": {},
     "output_type": "execute_result"
    }
   ],
   "source": [
    "df_labor.head()"
   ]
  },
  {
   "cell_type": "code",
   "execution_count": 18,
   "id": "77f25bf9-aad0-46e1-af36-ca7ad35062ef",
   "metadata": {},
   "outputs": [
    {
     "data": {
      "text/html": [
       "<div>\n",
       "<style scoped>\n",
       "    .dataframe tbody tr th:only-of-type {\n",
       "        vertical-align: middle;\n",
       "    }\n",
       "\n",
       "    .dataframe tbody tr th {\n",
       "        vertical-align: top;\n",
       "    }\n",
       "\n",
       "    .dataframe thead th {\n",
       "        text-align: right;\n",
       "    }\n",
       "</style>\n",
       "<table border=\"1\" class=\"dataframe\">\n",
       "  <thead>\n",
       "    <tr style=\"text-align: right;\">\n",
       "      <th></th>\n",
       "      <th>Store Number</th>\n",
       "      <th>DateTime</th>\n",
       "      <th>Number of Personnel</th>\n",
       "    </tr>\n",
       "  </thead>\n",
       "  <tbody>\n",
       "    <tr>\n",
       "      <th>29755</th>\n",
       "      <td>1040</td>\n",
       "      <td>2024-07-31 19:00:00</td>\n",
       "      <td>5</td>\n",
       "    </tr>\n",
       "    <tr>\n",
       "      <th>29756</th>\n",
       "      <td>1040</td>\n",
       "      <td>2024-07-31 20:00:00</td>\n",
       "      <td>4</td>\n",
       "    </tr>\n",
       "    <tr>\n",
       "      <th>29757</th>\n",
       "      <td>1040</td>\n",
       "      <td>2024-07-31 21:00:00</td>\n",
       "      <td>5</td>\n",
       "    </tr>\n",
       "    <tr>\n",
       "      <th>29758</th>\n",
       "      <td>1040</td>\n",
       "      <td>2024-07-31 22:00:00</td>\n",
       "      <td>8</td>\n",
       "    </tr>\n",
       "    <tr>\n",
       "      <th>29759</th>\n",
       "      <td>1040</td>\n",
       "      <td>2024-07-31 23:00:00</td>\n",
       "      <td>2</td>\n",
       "    </tr>\n",
       "  </tbody>\n",
       "</table>\n",
       "</div>"
      ],
      "text/plain": [
       "      Store Number            DateTime Number of Personnel\n",
       "29755         1040 2024-07-31 19:00:00                   5\n",
       "29756         1040 2024-07-31 20:00:00                   4\n",
       "29757         1040 2024-07-31 21:00:00                   5\n",
       "29758         1040 2024-07-31 22:00:00                   8\n",
       "29759         1040 2024-07-31 23:00:00                   2"
      ]
     },
     "execution_count": 18,
     "metadata": {},
     "output_type": "execute_result"
    }
   ],
   "source": [
    "df_labor.tail()"
   ]
  },
  {
   "cell_type": "code",
   "execution_count": 19,
   "id": "1c3aa02a-a039-4c63-9999-ae3958d13b5e",
   "metadata": {},
   "outputs": [],
   "source": [
    "df_labor.to_csv(\"../data/in/labor.csv\", index=False)"
   ]
  },
  {
   "cell_type": "code",
   "execution_count": 6,
   "id": "0d1e0cb4-895f-45ec-9c57-2eb30a6c3a9a",
   "metadata": {},
   "outputs": [],
   "source": [
    "# Assuming df is your existing dataframe with a 'DateTime' column of datetime objects\n",
    "# Example dataframe creation\n",
    "start_date = '2024-07-01 00:00:00'\n",
    "end_date = '2024-07-31 23:00:00'\n",
    "date_range = pd.date_range(start=start_date, end=end_date, freq='h')\n",
    "dft = pd.DataFrame(date_range, columns=['DateTime'])\n",
    "\n",
    "# Convert datetime to text (string format)\n",
    "dft['DateTime'] = dft['DateTime'].dt.strftime('%Y-%m-%d %H:%M:%S')\n"
   ]
  },
  {
   "cell_type": "code",
   "execution_count": 7,
   "id": "6bda0631-9f2d-479f-af98-dbaea9d05aaa",
   "metadata": {},
   "outputs": [
    {
     "data": {
      "text/html": [
       "<div>\n",
       "<style scoped>\n",
       "    .dataframe tbody tr th:only-of-type {\n",
       "        vertical-align: middle;\n",
       "    }\n",
       "\n",
       "    .dataframe tbody tr th {\n",
       "        vertical-align: top;\n",
       "    }\n",
       "\n",
       "    .dataframe thead th {\n",
       "        text-align: right;\n",
       "    }\n",
       "</style>\n",
       "<table border=\"1\" class=\"dataframe\">\n",
       "  <thead>\n",
       "    <tr style=\"text-align: right;\">\n",
       "      <th></th>\n",
       "      <th>DateTime</th>\n",
       "    </tr>\n",
       "  </thead>\n",
       "  <tbody>\n",
       "    <tr>\n",
       "      <th>0</th>\n",
       "      <td>2024-07-01 00:00:00</td>\n",
       "    </tr>\n",
       "    <tr>\n",
       "      <th>1</th>\n",
       "      <td>2024-07-01 01:00:00</td>\n",
       "    </tr>\n",
       "    <tr>\n",
       "      <th>2</th>\n",
       "      <td>2024-07-01 02:00:00</td>\n",
       "    </tr>\n",
       "    <tr>\n",
       "      <th>3</th>\n",
       "      <td>2024-07-01 03:00:00</td>\n",
       "    </tr>\n",
       "    <tr>\n",
       "      <th>4</th>\n",
       "      <td>2024-07-01 04:00:00</td>\n",
       "    </tr>\n",
       "  </tbody>\n",
       "</table>\n",
       "</div>"
      ],
      "text/plain": [
       "              DateTime\n",
       "0  2024-07-01 00:00:00\n",
       "1  2024-07-01 01:00:00\n",
       "2  2024-07-01 02:00:00\n",
       "3  2024-07-01 03:00:00\n",
       "4  2024-07-01 04:00:00"
      ]
     },
     "execution_count": 7,
     "metadata": {},
     "output_type": "execute_result"
    }
   ],
   "source": [
    "dft.head()"
   ]
  },
  {
   "cell_type": "code",
   "execution_count": 8,
   "id": "91e657ee-fc3b-42b8-a8d9-13e3b97cc211",
   "metadata": {},
   "outputs": [],
   "source": [
    "df_time.to_csv(\"../data/in/calendar.csv\", index=False)"
   ]
  },
  {
   "cell_type": "code",
   "execution_count": null,
   "id": "0c3b1352-925c-4b7b-8683-faf17178db4c",
   "metadata": {},
   "outputs": [],
   "source": []
  }
 ],
 "metadata": {
  "kernelspec": {
   "display_name": "Python 3 (ipykernel)",
   "language": "python",
   "name": "python3"
  },
  "language_info": {
   "codemirror_mode": {
    "name": "ipython",
    "version": 3
   },
   "file_extension": ".py",
   "mimetype": "text/x-python",
   "name": "python",
   "nbconvert_exporter": "python",
   "pygments_lexer": "ipython3",
   "version": "3.12.4"
  }
 },
 "nbformat": 4,
 "nbformat_minor": 5
}
